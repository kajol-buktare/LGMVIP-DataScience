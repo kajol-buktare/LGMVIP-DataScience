{
 "cells": [
  {
   "cell_type": "markdown",
   "id": "658a3c43",
   "metadata": {},
   "source": [
    "# Image to Pencil Sketch"
   ]
  },
  {
   "cell_type": "markdown",
   "id": "45801c1e",
   "metadata": {},
   "source": [
    "Library needed to convert image to pencil sketch"
   ]
  },
  {
   "cell_type": "code",
   "execution_count": null,
   "id": "d4747438",
   "metadata": {},
   "outputs": [],
   "source": [
    "import cv2"
   ]
  },
  {
   "cell_type": "markdown",
   "id": "20ab582b",
   "metadata": {},
   "source": [
    "To read the image it's address is given"
   ]
  },
  {
   "cell_type": "code",
   "execution_count": null,
   "id": "508ae7c0",
   "metadata": {},
   "outputs": [],
   "source": [
    "image = cv2.imread(\"C:\\\\Users\\\\kajol\\\\OneDrive\\\\Pictures\\\\dog.jpg\")\n",
    "cv2.imshow(\"Dog\", image)\n",
    "cv2.waitKey(0)"
   ]
  },
  {
   "cell_type": "markdown",
   "id": "66b963b2",
   "metadata": {},
   "source": [
    "Converting original image to greyscale"
   ]
  },
  {
   "cell_type": "code",
   "execution_count": null,
   "id": "338625c3",
   "metadata": {},
   "outputs": [],
   "source": [
    "gray_image = cv2.cvtColor(image, cv2.COLOR_BGR2GRAY)\n",
    "cv2.imshow(\"New Dog\", gray_image)\n",
    "cv2.waitKey(0)"
   ]
  },
  {
   "cell_type": "markdown",
   "id": "cbb072bd",
   "metadata": {},
   "source": [
    "Invert the grayscale image"
   ]
  },
  {
   "cell_type": "code",
   "execution_count": null,
   "id": "415f92c4",
   "metadata": {},
   "outputs": [],
   "source": [
    "inverted_image = 255 - gray_image\n",
    "cv2.imshow(\"Inverted\", inverted_image)\n",
    "cv2.waitKey()"
   ]
  },
  {
   "cell_type": "markdown",
   "id": "6bcacaca",
   "metadata": {},
   "source": [
    "Prcocess blur image by Gaussian function"
   ]
  },
  {
   "cell_type": "code",
   "execution_count": null,
   "id": "043e2c7f",
   "metadata": {},
   "outputs": [],
   "source": [
    "blurred = cv2.GaussianBlur(inverted_image, (21, 21), 0)"
   ]
  },
  {
   "cell_type": "markdown",
   "id": "7552f5fd",
   "metadata": {},
   "source": [
    "To invert blurred image"
   ]
  },
  {
   "cell_type": "code",
   "execution_count": null,
   "id": "32ba1f33",
   "metadata": {},
   "outputs": [],
   "source": [
    "inverted_blurred = 255 - blurred\n",
    "pencil_sketch = cv2.divide(gray_image, inverted_blurred, scale=256.0)\n",
    "cv2.imshow(\"Sketch\", pencil_sketch)\n",
    "cv2.waitKey(0)"
   ]
  },
  {
   "cell_type": "markdown",
   "id": "a9bbc7c4",
   "metadata": {},
   "source": [
    "Shows original image and it's pencil sketch"
   ]
  },
  {
   "cell_type": "code",
   "execution_count": null,
   "id": "70ceb94e",
   "metadata": {},
   "outputs": [],
   "source": [
    "cv2.imshow(\"original image\", image)\n",
    "cv2.imshow(\"pencil sketch\", pencil_sketch)\n",
    "cv2.waitKey(0)\n",
    "cv2.imwrite"
   ]
  }
 ],
 "metadata": {
  "kernelspec": {
   "display_name": "Python 3",
   "language": "python",
   "name": "python3"
  },
  "language_info": {
   "codemirror_mode": {
    "name": "ipython",
    "version": 3
   },
   "file_extension": ".py",
   "mimetype": "text/x-python",
   "name": "python",
   "nbconvert_exporter": "python",
   "pygments_lexer": "ipython3",
   "version": "3.6.2"
  }
 },
 "nbformat": 4,
 "nbformat_minor": 5
}
